{
 "cells": [
  {
   "cell_type": "code",
   "execution_count": 1,
   "metadata": {},
   "outputs": [],
   "source": [
    "import os\n",
    "from pathlib import Path"
   ]
  },
  {
   "cell_type": "code",
   "execution_count": 2,
   "metadata": {},
   "outputs": [],
   "source": [
    "workdir = str(Path(\"C:/Users/atulkumarrai/PycharmProjects/Ineuron practice/Ineuron_practice/AIOps/AIOps_Projects\"))\n",
    "workdir\n",
    "os.chdir(workdir)"
   ]
  },
  {
   "cell_type": "code",
   "execution_count": 3,
   "metadata": {},
   "outputs": [
    {
     "name": "stdout",
     "output_type": "stream",
     "text": [
      "/c/Users/atulkumarrai/PycharmProjects/Ineuron practice/Ineuron_practice/AIOps/AIOps_Projects\n"
     ]
    }
   ],
   "source": [
    "!pwd"
   ]
  },
  {
   "cell_type": "markdown",
   "metadata": {},
   "source": [
    "#### We can use YAML files as well to store the configurations but Since, they are not the python classes hence, it is difficult to get auto suggestions from them and developer need to remember them always. Hence, we can either use configurations class as below or read the yaml file and store the things in config class. So that it can be developer friendly as well."
   ]
  },
  {
   "cell_type": "code",
   "execution_count": 4,
   "metadata": {},
   "outputs": [],
   "source": [
    "\n",
    "\n",
    "class Config:\n",
    "    def __init__(self):\n",
    "        self.work_dir=workdir\n",
    "        self.data_dir=os.path.join(self.work_dir,\"data\")\n",
    "        self.csv_file_name=\"data.csv\"\n",
    "        self.csv_file_path = os.path.join(self.data_dir,self.csv_file_name)\n",
    "        self.pipeline_root = os.path.join(\"aiops_pipeline_artifacts\")\n",
    "        self.pipeline_name = \"aiops_pipeline\"\n",
    "        self.meta_data_path = os.path.join(\"Aiops_pipeline_metadata\", self.pipeline_name,\"metadata.db\")     ## Here we would like to create a metadata file which will be stored in sqlite\n",
    "        "
   ]
  },
  {
   "cell_type": "code",
   "execution_count": 5,
   "metadata": {},
   "outputs": [],
   "source": [
    "config = Config()"
   ]
  },
  {
   "cell_type": "code",
   "execution_count": 6,
   "metadata": {},
   "outputs": [
    {
     "data": {
      "text/plain": [
       "'C:\\\\Users\\\\atulkumarrai\\\\PycharmProjects\\\\Ineuron practice\\\\Ineuron_practice\\\\AIOps\\\\AIOps_Projects\\\\data'"
      ]
     },
     "execution_count": 6,
     "metadata": {},
     "output_type": "execute_result"
    }
   ],
   "source": [
    "config.data_dir"
   ]
  },
  {
   "cell_type": "code",
   "execution_count": 7,
   "metadata": {},
   "outputs": [
    {
     "data": {
      "text/plain": [
       "'C:\\\\Users\\\\atulkumarrai\\\\PycharmProjects\\\\Ineuron practice\\\\Ineuron_practice\\\\AIOps\\\\AIOps_Projects\\\\data\\\\data.csv'"
      ]
     },
     "execution_count": 7,
     "metadata": {},
     "output_type": "execute_result"
    }
   ],
   "source": [
    "config.csv_file_path"
   ]
  },
  {
   "cell_type": "markdown",
   "metadata": {},
   "source": [
    "#### Let's see some examples of how to use tfx"
   ]
  },
  {
   "cell_type": "code",
   "execution_count": null,
   "metadata": {},
   "outputs": [],
   "source": [
    "from tfx.orchestration.experimental.interactive.interactive_context import InteractiveContext"
   ]
  },
  {
   "cell_type": "code",
   "execution_count": null,
   "metadata": {},
   "outputs": [],
   "source": []
  }
 ],
 "metadata": {
  "interpreter": {
   "hash": "4c7fb74aba6e4874246bd5bcdc43dd272241b6c588a75312bf2680a9123db890"
  },
  "kernelspec": {
   "display_name": "Python 3 (ipykernel)",
   "language": "python",
   "name": "python3"
  },
  "language_info": {
   "codemirror_mode": {
    "name": "ipython",
    "version": 3
   },
   "file_extension": ".py",
   "mimetype": "text/x-python",
   "name": "python",
   "nbconvert_exporter": "python",
   "pygments_lexer": "ipython3",
   "version": "3.7.0"
  }
 },
 "nbformat": 4,
 "nbformat_minor": 2
}
